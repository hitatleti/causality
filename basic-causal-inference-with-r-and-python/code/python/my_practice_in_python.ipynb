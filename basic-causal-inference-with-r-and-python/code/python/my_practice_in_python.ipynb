{
 "cells": [
  {
   "cell_type": "code",
   "execution_count": 1,
   "metadata": {},
   "outputs": [
    {
     "name": "stdout",
     "output_type": "stream",
     "text": [
      "Requirement already satisfied: seaborn in /home/statistics/.local/lib/python3.8/site-packages (0.12.2)\n",
      "Requirement already satisfied: pandas>=0.25 in /home/statistics/.local/lib/python3.8/site-packages (from seaborn) (1.3.5)\n",
      "Requirement already satisfied: matplotlib!=3.6.1,>=3.1 in /home/statistics/.local/lib/python3.8/site-packages (from seaborn) (3.4.1)\n",
      "Requirement already satisfied: numpy!=1.24.0,>=1.17 in /home/statistics/.local/lib/python3.8/site-packages (from seaborn) (1.23.4)\n",
      "Requirement already satisfied: pytz>=2017.3 in /usr/lib/python3/dist-packages (from pandas>=0.25->seaborn) (2019.3)\n",
      "Requirement already satisfied: python-dateutil>=2.7.3 in /home/statistics/.local/lib/python3.8/site-packages (from pandas>=0.25->seaborn) (2.8.2)\n",
      "Requirement already satisfied: pillow>=6.2.0 in /usr/lib/python3/dist-packages (from matplotlib!=3.6.1,>=3.1->seaborn) (7.0.0)\n",
      "Requirement already satisfied: pyparsing>=2.2.1 in /home/statistics/.local/lib/python3.8/site-packages (from matplotlib!=3.6.1,>=3.1->seaborn) (2.4.7)\n",
      "Requirement already satisfied: kiwisolver>=1.0.1 in /home/statistics/.local/lib/python3.8/site-packages (from matplotlib!=3.6.1,>=3.1->seaborn) (1.3.1)\n",
      "Requirement already satisfied: cycler>=0.10 in /home/statistics/.local/lib/python3.8/site-packages (from matplotlib!=3.6.1,>=3.1->seaborn) (0.10.0)\n",
      "Requirement already satisfied: six>=1.5 in /home/statistics/.local/lib/python3.8/site-packages (from python-dateutil>=2.7.3->pandas>=0.25->seaborn) (1.15.0)\n",
      "Note: you may need to restart the kernel to use updated packages.\n"
     ]
    }
   ],
   "source": [
    "pip install seaborn"
   ]
  },
  {
   "cell_type": "code",
   "execution_count": 2,
   "metadata": {},
   "outputs": [],
   "source": [
    "import numpy as np\n",
    "import pandas as pd\n",
    "import matplotlib.pyplot as plt\n",
    "import seaborn as sns"
   ]
  },
  {
   "attachments": {},
   "cell_type": "markdown",
   "metadata": {},
   "source": [
    "### Chapter02　潜在的結果変数の枠組み"
   ]
  },
  {
   "attachments": {},
   "cell_type": "markdown",
   "metadata": {},
   "source": [
    "#### 2.1　潜在的結果変数の枠組み：具体例"
   ]
  },
  {
   "attachments": {},
   "cell_type": "markdown",
   "metadata": {},
   "source": [
    "単純な「前後比較」や「集団ごとの平均の差の比較」によって因果を推し測ろうとすることはよくある誤り. <br>\n",
    "統計的因果推論では, 潜在的結果の差から計算される因果効果を推定する. （ただし, 実際に潜在的結果は観測されないことに注意. ）"
   ]
  },
  {
   "attachments": {},
   "cell_type": "markdown",
   "metadata": {},
   "source": [
    "#### 2.2　潜在的結果変数の枠組み：理論"
   ]
  },
  {
   "cell_type": "code",
   "execution_count": 4,
   "metadata": {},
   "outputs": [
    {
     "data": {
      "text/html": [
       "<div>\n",
       "<style scoped>\n",
       "    .dataframe tbody tr th:only-of-type {\n",
       "        vertical-align: middle;\n",
       "    }\n",
       "\n",
       "    .dataframe tbody tr th {\n",
       "        vertical-align: top;\n",
       "    }\n",
       "\n",
       "    .dataframe thead th {\n",
       "        text-align: right;\n",
       "    }\n",
       "</style>\n",
       "<table border=\"1\" class=\"dataframe\">\n",
       "  <thead>\n",
       "    <tr style=\"text-align: right;\">\n",
       "      <th></th>\n",
       "      <th>x1</th>\n",
       "      <th>y3</th>\n",
       "      <th>t1</th>\n",
       "      <th>y0</th>\n",
       "      <th>y1</th>\n",
       "      <th>y0t</th>\n",
       "      <th>y1t</th>\n",
       "    </tr>\n",
       "  </thead>\n",
       "  <tbody>\n",
       "    <tr>\n",
       "      <th>count</th>\n",
       "      <td>20.000000</td>\n",
       "      <td>20.000000</td>\n",
       "      <td>20.000000</td>\n",
       "      <td>14.000000</td>\n",
       "      <td>6.000000</td>\n",
       "      <td>20.000000</td>\n",
       "      <td>20.000000</td>\n",
       "    </tr>\n",
       "    <tr>\n",
       "      <th>mean</th>\n",
       "      <td>81.950000</td>\n",
       "      <td>76.600000</td>\n",
       "      <td>0.300000</td>\n",
       "      <td>77.785714</td>\n",
       "      <td>73.833333</td>\n",
       "      <td>73.800000</td>\n",
       "      <td>83.850000</td>\n",
       "    </tr>\n",
       "    <tr>\n",
       "      <th>std</th>\n",
       "      <td>8.999854</td>\n",
       "      <td>5.245549</td>\n",
       "      <td>0.470162</td>\n",
       "      <td>4.281958</td>\n",
       "      <td>6.615638</td>\n",
       "      <td>7.898034</td>\n",
       "      <td>8.430989</td>\n",
       "    </tr>\n",
       "    <tr>\n",
       "      <th>min</th>\n",
       "      <td>58.000000</td>\n",
       "      <td>61.000000</td>\n",
       "      <td>0.000000</td>\n",
       "      <td>72.000000</td>\n",
       "      <td>61.000000</td>\n",
       "      <td>52.000000</td>\n",
       "      <td>61.000000</td>\n",
       "    </tr>\n",
       "    <tr>\n",
       "      <th>25%</th>\n",
       "      <td>76.250000</td>\n",
       "      <td>75.000000</td>\n",
       "      <td>0.000000</td>\n",
       "      <td>75.000000</td>\n",
       "      <td>74.250000</td>\n",
       "      <td>69.500000</td>\n",
       "      <td>79.250000</td>\n",
       "    </tr>\n",
       "    <tr>\n",
       "      <th>50%</th>\n",
       "      <td>83.500000</td>\n",
       "      <td>76.500000</td>\n",
       "      <td>0.000000</td>\n",
       "      <td>77.000000</td>\n",
       "      <td>75.500000</td>\n",
       "      <td>75.000000</td>\n",
       "      <td>84.500000</td>\n",
       "    </tr>\n",
       "    <tr>\n",
       "      <th>75%</th>\n",
       "      <td>87.250000</td>\n",
       "      <td>80.000000</td>\n",
       "      <td>1.000000</td>\n",
       "      <td>80.000000</td>\n",
       "      <td>76.750000</td>\n",
       "      <td>78.500000</td>\n",
       "      <td>89.000000</td>\n",
       "    </tr>\n",
       "    <tr>\n",
       "      <th>max</th>\n",
       "      <td>96.000000</td>\n",
       "      <td>87.000000</td>\n",
       "      <td>1.000000</td>\n",
       "      <td>87.000000</td>\n",
       "      <td>80.000000</td>\n",
       "      <td>87.000000</td>\n",
       "      <td>97.000000</td>\n",
       "    </tr>\n",
       "  </tbody>\n",
       "</table>\n",
       "</div>"
      ],
      "text/plain": [
       "              x1         y3         t1         y0         y1        y0t  \\\n",
       "count  20.000000  20.000000  20.000000  14.000000   6.000000  20.000000   \n",
       "mean   81.950000  76.600000   0.300000  77.785714  73.833333  73.800000   \n",
       "std     8.999854   5.245549   0.470162   4.281958   6.615638   7.898034   \n",
       "min    58.000000  61.000000   0.000000  72.000000  61.000000  52.000000   \n",
       "25%    76.250000  75.000000   0.000000  75.000000  74.250000  69.500000   \n",
       "50%    83.500000  76.500000   0.000000  77.000000  75.500000  75.000000   \n",
       "75%    87.250000  80.000000   1.000000  80.000000  76.750000  78.500000   \n",
       "max    96.000000  87.000000   1.000000  87.000000  80.000000  87.000000   \n",
       "\n",
       "             y1t  \n",
       "count  20.000000  \n",
       "mean   83.850000  \n",
       "std     8.430989  \n",
       "min    61.000000  \n",
       "25%    79.250000  \n",
       "50%    84.500000  \n",
       "75%    89.000000  \n",
       "max    97.000000  "
      ]
     },
     "execution_count": 4,
     "metadata": {},
     "output_type": "execute_result"
    }
   ],
   "source": [
    "data02 = pd.read_csv(\"../../data/data02.csv\")\n",
    "data02.describe()"
   ]
  },
  {
   "attachments": {},
   "cell_type": "markdown",
   "metadata": {},
   "source": [
    "#### 2.3　処置効果１：個体因果効果"
   ]
  },
  {
   "attachments": {},
   "cell_type": "markdown",
   "metadata": {},
   "source": [
    "<b> Def 2.3：個体因果効果（ICE: individual causal effect）</b>\n",
    "$$ \\tau_{i} = \\gamma_{i}(1) - \\gamma_{i}(0) $$"
   ]
  },
  {
   "cell_type": "code",
   "execution_count": 7,
   "metadata": {},
   "outputs": [
    {
     "data": {
      "text/plain": [
       "0      8\n",
       "1      9\n",
       "2     10\n",
       "3     13\n",
       "4      9\n",
       "5      9\n",
       "6     11\n",
       "7     12\n",
       "8     10\n",
       "9     10\n",
       "10     9\n",
       "11    10\n",
       "12    10\n",
       "13     9\n",
       "14    12\n",
       "15    12\n",
       "16    10\n",
       "17     9\n",
       "18    10\n",
       "19     9\n",
       "dtype: int64"
      ]
     },
     "execution_count": 7,
     "metadata": {},
     "output_type": "execute_result"
    }
   ],
   "source": [
    "data02['y1t'] - data02['y0t']"
   ]
  },
  {
   "cell_type": "code",
   "execution_count": 8,
   "metadata": {},
   "outputs": [
    {
     "data": {
      "text/plain": [
       "0      2\n",
       "1     -7\n",
       "2      3\n",
       "3    -12\n",
       "4     -8\n",
       "5      2\n",
       "6     -9\n",
       "7    -10\n",
       "8     -9\n",
       "9      3\n",
       "10    -8\n",
       "11    -9\n",
       "12     3\n",
       "13     3\n",
       "14   -10\n",
       "15    -8\n",
       "16    -8\n",
       "17    -9\n",
       "18    -8\n",
       "19    -8\n",
       "dtype: int64"
      ]
     },
     "execution_count": 8,
     "metadata": {},
     "output_type": "execute_result"
    }
   ],
   "source": [
    "data02['y3'] - data02['x1']"
   ]
  },
  {
   "cell_type": "code",
   "execution_count": 9,
   "metadata": {},
   "outputs": [
    {
     "data": {
      "text/plain": [
       "0    NaN\n",
       "1    NaN\n",
       "2    NaN\n",
       "3    NaN\n",
       "4    NaN\n",
       "5    NaN\n",
       "6    NaN\n",
       "7    NaN\n",
       "8    NaN\n",
       "9    NaN\n",
       "10   NaN\n",
       "11   NaN\n",
       "12   NaN\n",
       "13   NaN\n",
       "14   NaN\n",
       "15   NaN\n",
       "16   NaN\n",
       "17   NaN\n",
       "18   NaN\n",
       "19   NaN\n",
       "dtype: float64"
      ]
     },
     "execution_count": 9,
     "metadata": {},
     "output_type": "execute_result"
    }
   ],
   "source": [
    "data02['y1'] - data02['y0']"
   ]
  },
  {
   "attachments": {},
   "cell_type": "markdown",
   "metadata": {},
   "source": [
    "潜在的結果は一方が観測された時, 他方は観測されないため, ITEは定義できても観測も推定もできない. "
   ]
  },
  {
   "attachments": {},
   "cell_type": "markdown",
   "metadata": {},
   "source": [
    "#### 2.4　処置効果２：平均処置効果"
   ]
  },
  {
   "attachments": {},
   "cell_type": "markdown",
   "metadata": {},
   "source": [
    "<b> Def 2.4：個体因果効果（ACE: average causal effect）あるいは 平均処置効果（ATE）</b>\n",
    "$$ \\tau_{\\mathrm{ATE}} = \\mathrm{E} [ \\gamma_{i}(1) - \\gamma_{i}(0) ] = \\mathrm{E} [ \\gamma_{i}(1)] - \\mathrm{E} [ \\gamma_{i}(0)] $$"
   ]
  },
  {
   "cell_type": "code",
   "execution_count": null,
   "metadata": {},
   "outputs": [],
   "source": []
  }
 ],
 "metadata": {
  "kernelspec": {
   "display_name": "Python 3",
   "language": "python",
   "name": "python3"
  },
  "language_info": {
   "codemirror_mode": {
    "name": "ipython",
    "version": 3
   },
   "file_extension": ".py",
   "mimetype": "text/x-python",
   "name": "python",
   "nbconvert_exporter": "python",
   "pygments_lexer": "ipython3",
   "version": "3.8.10"
  },
  "orig_nbformat": 4
 },
 "nbformat": 4,
 "nbformat_minor": 2
}
